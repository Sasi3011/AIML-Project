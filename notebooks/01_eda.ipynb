{
 "cells": [
  {
   "cell_type": "code",
   "execution_count": null,
   "id": "ebc5d9d6",
   "metadata": {},
   "outputs": [],
   "source": [
    "# 01_eda.ipynb — Exploratory Data Analysis for Smart Fertilizer Recommender\n",
    "\n",
    "\n",
    "# ========================\n",
    "# 1. Import Libraries\n",
    "# ========================\n",
    "import pandas as pd\n",
    "import numpy as np\n",
    "import matplotlib.pyplot as plt\n",
    "import seaborn as sns\n",
    "from pathlib import Path\n",
    "\n",
    "\n",
    "# Style settings\n",
    "sns.set(style='whitegrid', palette='muted', font_scale=1.1)"
   ]
  },
  {
   "cell_type": "code",
   "execution_count": null,
   "id": "e9c92c40",
   "metadata": {},
   "outputs": [],
   "source": [
    "# ========================\n",
    "# 2. Load Dataset\n",
    "# ========================\n",
    "\n",
    "# Step 1: Move up one level from 'notebooks' to project root, then into 'data/raw'\n",
    "RAW = Path('../data/raw/Smart_Fertilizer_Recommender_Dataset.xlsx')\n",
    "\n",
    "# Step 2: Load the Excel file\n",
    "df = pd.read_excel(RAW)\n",
    "\n",
    "# Step 3: Confirm successful load\n",
    "print('✅ Data Loaded Successfully:', df.shape)\n",
    "\n",
    "# Step 4: Display first few rows\n",
    "df.head()\n"
   ]
  },
  {
   "cell_type": "code",
   "execution_count": null,
   "id": "2569e18a",
   "metadata": {},
   "outputs": [],
   "source": [
    "# ========================\n",
    "# 3. Summary Statistics\n",
    "# ========================\n",
    "print('Summary Statistics:')\n",
    "df.describe(include='all').transpose()"
   ]
  },
  {
   "cell_type": "code",
   "execution_count": null,
   "id": "b48eb96c",
   "metadata": {},
   "outputs": [],
   "source": [
    "# ========================\n",
    "# 4. Check for Missing Values\n",
    "# ========================\n",
    "missing = df.isnull().sum()\n",
    "print('Missing Values per Column:')\n",
    "print(missing[missing > 0])\n",
    "\n",
    "\n",
    "plt.figure(figsize=(10,5))\n",
    "sns.heatmap(df.isnull(), cbar=False, cmap='viridis')\n",
    "plt.title('Missing Values Heatmap')\n",
    "plt.show()"
   ]
  },
  {
   "cell_type": "code",
   "execution_count": null,
   "id": "8fb2a202",
   "metadata": {},
   "outputs": [],
   "source": [
    "# ========================\n",
    "# 5. Univariate Analysis\n",
    "# ========================\n",
    "\n",
    "# Numeric distributions\n",
    "numeric_cols = df.select_dtypes(include=np.number).columns\n",
    "\n",
    "for col in numeric_cols:\n",
    "    plt.figure(figsize=(8, 4))\n",
    "    sns.histplot(df[col], kde=True, bins=30)\n",
    "    plt.title(f'Distribution of {col}')\n",
    "    plt.xlabel(col)\n",
    "    plt.ylabel('Frequency')\n",
    "    plt.show()\n",
    "\n",
    "# Boxplots for detecting outliers\n",
    "for col in numeric_cols:\n",
    "    plt.figure(figsize=(8, 4))\n",
    "    sns.boxplot(x=df[col])\n",
    "    plt.title(f'Boxplot of {col}')\n",
    "    plt.show()\n"
   ]
  },
  {
   "cell_type": "code",
   "execution_count": null,
   "id": "47a09835",
   "metadata": {},
   "outputs": [],
   "source": [
    "# ========================\n",
    "# 6. Bivariate Analysis\n",
    "# ========================\n",
    "\n",
    "# Correlation heatmap — numeric only\n",
    "plt.figure(figsize=(10, 8))\n",
    "numeric_df = df.select_dtypes(include=np.number)  # Select only numeric columns\n",
    "sns.heatmap(numeric_df.corr(), annot=True, fmt='.2f', cmap='coolwarm')\n",
    "plt.title('Correlation Heatmap (Numerical Features)')\n",
    "plt.show()\n",
    "\n",
    "\n",
    "# Example: Soil_pH vs Fertilizer_Type\n",
    "if 'Fertilizer_Type' in df.columns and 'Soil_pH' in df.columns:\n",
    "    plt.figure(figsize=(8, 5))\n",
    "    sns.boxplot(data=df, x='Fertilizer_Type', y='Soil_pH')\n",
    "    plt.title('Soil pH vs Fertilizer Type')\n",
    "    plt.show()\n",
    "else:\n",
    "    print(\"Columns 'Fertilizer_Type' or 'Soil_pH' not found in the dataset.\")\n",
    "\n",
    "\n",
    "# Example: Nitrogen_Level vs Recommended Quantity\n",
    "if all(col in df.columns for col in ['Nitrogen_Level', 'Recommended_Quantity_kg_per_acre', 'Fertilizer_Type']):\n",
    "    plt.figure(figsize=(8, 5))\n",
    "    sns.scatterplot(\n",
    "        data=df,\n",
    "        x='Nitrogen_Level',\n",
    "        y='Recommended_Quantity_kg_per_acre',\n",
    "        hue='Fertilizer_Type',\n",
    "        palette='viridis'\n",
    "    )\n",
    "    plt.title('Nitrogen vs Fertilizer Quantity by Type')\n",
    "    plt.show()\n",
    "else:\n",
    "    print(\"Some columns for this plot are missing in the dataset.\")\n"
   ]
  },
  {
   "cell_type": "code",
   "execution_count": null,
   "id": "b91f8f0f",
   "metadata": {},
   "outputs": [],
   "source": [
    "# ========================\n",
    "# 7. Insights Summary\n",
    "# ========================\n",
    "\n",
    "\n",
    "print('Key Observations:')\n",
    "print('- Check if soil pH clusters around neutral for certain fertilizer types.')\n",
    "print('- Observe which nutrient (N, P, K) correlates most with fertilizer choice.')\n",
    "print('- Note any extreme outliers in rainfall or nutrient levels that may need capping.')\n",
    "print('- Examine feature correlations to decide which variables might be redundant.')"
   ]
  }
 ],
 "metadata": {
  "kernelspec": {
   "display_name": "AIML Project (.venv)",
   "language": "python",
   "name": ".venv"
  },
  "language_info": {
   "codemirror_mode": {
    "name": "ipython",
    "version": 3
   },
   "file_extension": ".py",
   "mimetype": "text/x-python",
   "name": "python",
   "nbconvert_exporter": "python",
   "pygments_lexer": "ipython3",
   "version": "3.14.0"
  }
 },
 "nbformat": 4,
 "nbformat_minor": 5
}
