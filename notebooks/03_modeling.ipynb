{
 "cells": [
  {
   "cell_type": "code",
   "execution_count": 9,
   "id": "77a7bc2f",
   "metadata": {},
   "outputs": [],
   "source": [
    "# ========================\n",
    "# 1. Import Libraries\n",
    "# ========================\n",
    "import pandas as pd\n",
    "import numpy as np\n",
    "import joblib\n",
    "from pathlib import Path\n",
    "from sklearn.utils import resample\n",
    "from sklearn.metrics import (\n",
    "    accuracy_score,\n",
    "    classification_report,\n",
    "    mean_absolute_error,\n",
    "    r2_score\n",
    ")\n",
    "from sklearn.ensemble import RandomForestClassifier, RandomForestRegressor\n",
    "import matplotlib.pyplot as plt\n",
    "import seaborn as sns\n",
    "\n",
    "sns.set(style='whitegrid', palette='muted', font_scale=1.1)\n",
    "\n",
    "PROC = Path('data/processed')\n",
    "MODELS = Path('models')\n",
    "MODELS.mkdir(exist_ok=True, parents=True)"
   ]
  },
  {
   "cell_type": "code",
   "execution_count": 10,
   "id": "527c9e01",
   "metadata": {},
   "outputs": [
    {
     "name": "stdout",
     "output_type": "stream",
     "text": [
      "Train: (722, 19) | Val: (128, 19) | Test: (150, 19)\n"
     ]
    }
   ],
   "source": [
    "# ========================\n",
    "# 2. Load Processed Datasets\n",
    "# ========================\n",
    "train = pd.read_csv(PROC / 'train.csv')\n",
    "val = pd.read_csv(PROC / 'val.csv')\n",
    "test = pd.read_csv(PROC / 'test.csv')\n",
    "\n",
    "print('Train:', train.shape, '| Val:', val.shape, '| Test:', test.shape)"
   ]
  },
  {
   "cell_type": "code",
   "execution_count": 11,
   "id": "0a4207b8",
   "metadata": {},
   "outputs": [],
   "source": [
    "# ========================\n",
    "# 3. Helper: Feature Engineering Function\n",
    "# ========================\n",
    "\n",
    "def add_rule_features(df):\n",
    "    \"\"\"Add agronomic rule-based features that help ML learn better.\"\"\"\n",
    "    df = df.copy()\n",
    "    df['High_N_Need'] = (df['Nitrogen_Level'] < 100).astype(int)\n",
    "    df['High_P_Need'] = (df['Phosphorus_Level'] < 30).astype(int)\n",
    "    df['High_K_Need'] = (df['Potassium_Level'] < 100).astype(int)\n",
    "    return df"
   ]
  },
  {
   "cell_type": "code",
   "execution_count": 12,
   "id": "122879ee",
   "metadata": {},
   "outputs": [],
   "source": [
    "# ========================\n",
    "# 4. Define Target and Features\n",
    "# ========================\n",
    "\n",
    "X_train_clf = train.drop(['Fertilizer_Type', 'Recommended_Quantity_kg_per_acre'], axis=1)\n",
    "y_train_clf = train['Fertilizer_Type']\n",
    "\n",
    "X_val_clf = val.drop(['Fertilizer_Type', 'Recommended_Quantity_kg_per_acre'], axis=1)\n",
    "y_val_clf = val['Fertilizer_Type']\n",
    "\n",
    "X_train_reg = X_train_clf.copy()\n",
    "y_train_reg = train['Recommended_Quantity_kg_per_acre']\n",
    "\n",
    "X_val_reg = X_val_clf.copy()\n",
    "y_val_reg = val['Recommended_Quantity_kg_per_acre']\n",
    "\n",
    "# Add engineered features consistently\n",
    "X_train_clf = add_rule_features(X_train_clf)\n",
    "X_val_clf = add_rule_features(X_val_clf)\n",
    "X_train_reg = add_rule_features(X_train_reg)\n",
    "X_val_reg = add_rule_features(X_val_reg)"
   ]
  },
  {
   "cell_type": "code",
   "execution_count": 13,
   "id": "7209c37d",
   "metadata": {},
   "outputs": [
    {
     "name": "stdout",
     "output_type": "stream",
     "text": [
      "Before balancing:\n",
      "Fertilizer_Type\n",
      "Potash     0.33795\n",
      "Mixed      0.17590\n",
      "Urea       0.16759\n",
      "DAP        0.16759\n",
      "Compost    0.15097\n",
      "Name: proportion, dtype: float64\n",
      "\n",
      "After balancing:\n",
      "Fertilizer_Type\n",
      "Compost    244\n",
      "DAP        244\n",
      "Mixed      244\n",
      "Potash     244\n",
      "Urea       244\n",
      "Name: count, dtype: int64\n"
     ]
    }
   ],
   "source": [
    "# ========================\n",
    "# 5. Handle Class Imbalance\n",
    "# ========================\n",
    "print(\"Before balancing:\")\n",
    "print(y_train_clf.value_counts(normalize=True))\n",
    "\n",
    "max_count = y_train_clf.value_counts().max()\n",
    "frames = []\n",
    "\n",
    "for fert_type, subset in train.groupby('Fertilizer_Type'):\n",
    "    subset_up = resample(subset, replace=True, n_samples=max_count, random_state=42)\n",
    "    frames.append(subset_up)\n",
    "\n",
    "train_balanced = pd.concat(frames)\n",
    "\n",
    "print(\"\\nAfter balancing:\")\n",
    "print(train_balanced['Fertilizer_Type'].value_counts())\n",
    "\n",
    "X_train_clf = train_balanced.drop(['Fertilizer_Type','Recommended_Quantity_kg_per_acre'], axis=1)\n",
    "y_train_clf = train_balanced['Fertilizer_Type']\n",
    "\n",
    "# Add rule-based features again (since we recreated X_train_clf)\n",
    "X_train_clf = add_rule_features(X_train_clf)"
   ]
  },
  {
   "cell_type": "code",
   "execution_count": 20,
   "id": "8d17be61",
   "metadata": {},
   "outputs": [
    {
     "name": "stdout",
     "output_type": "stream",
     "text": [
      "✅ Saved final feature column order to: C:\\Users\\sasik\\OneDrive\\Desktop\\AIML Project\\models\\feature_columns.pkl\n"
     ]
    }
   ],
   "source": [
    "# ========================\n",
    "# 5.5 Save final feature column order\n",
    "# ========================\n",
    "from pathlib import Path\n",
    "import joblib\n",
    "\n",
    "# Go one level up from notebooks/\n",
    "MODELS = Path('../models')\n",
    "MODELS.mkdir(parents=True, exist_ok=True)  # ensure folder exists\n",
    "\n",
    "# Identify final feature columns used for training\n",
    "final_features = X_train_clf.columns.tolist()\n",
    "\n",
    "# Save the list\n",
    "joblib.dump(final_features, MODELS / 'feature_columns.pkl')\n",
    "\n",
    "print(f\"✅ Saved final feature column order to: {MODELS.resolve() / 'feature_columns.pkl'}\")\n"
   ]
  },
  {
   "cell_type": "code",
   "execution_count": 14,
   "id": "7c481b39",
   "metadata": {},
   "outputs": [
    {
     "name": "stdout",
     "output_type": "stream",
     "text": [
      "✅ Balanced Random Forest Results\n",
      "Classification Accuracy: 0.1875\n",
      "Classification Report:\n",
      "               precision    recall  f1-score   support\n",
      "\n",
      "     Compost       0.12      0.11      0.11        18\n",
      "         DAP       0.27      0.17      0.21        23\n",
      "       Mixed       0.17      0.22      0.19        18\n",
      "      Potash       0.25      0.23      0.24        48\n",
      "        Urea       0.11      0.14      0.12        21\n",
      "\n",
      "    accuracy                           0.19       128\n",
      "   macro avg       0.18      0.18      0.18       128\n",
      "weighted avg       0.20      0.19      0.19       128\n",
      "\n",
      "Regression MAE: 47.62\n",
      "Regression R²: -0.021\n"
     ]
    }
   ],
   "source": [
    "# ========================\n",
    "# 6. Train Improved Random Forest Models\n",
    "# ========================\n",
    "\n",
    "clf_rf = RandomForestClassifier(\n",
    "    n_estimators=300,\n",
    "    max_depth=16,\n",
    "    class_weight='balanced',\n",
    "    random_state=42\n",
    ")\n",
    "reg_rf = RandomForestRegressor(\n",
    "    n_estimators=250,\n",
    "    max_depth=14,\n",
    "    random_state=42\n",
    ")\n",
    "\n",
    "clf_rf.fit(X_train_clf, y_train_clf)\n",
    "reg_rf.fit(X_train_reg, y_train_reg)\n",
    "\n",
    "preds_clf_rf = clf_rf.predict(X_val_clf)\n",
    "preds_reg_rf = reg_rf.predict(X_val_reg)\n",
    "\n",
    "print('✅ Balanced Random Forest Results')\n",
    "print('Classification Accuracy:', accuracy_score(y_val_clf, preds_clf_rf))\n",
    "print('Classification Report:\\n', classification_report(y_val_clf, preds_clf_rf))\n",
    "\n",
    "mae = mean_absolute_error(y_val_reg, preds_reg_rf)\n",
    "r2 = r2_score(y_val_reg, preds_reg_rf)\n",
    "print(f'Regression MAE: {mae:.2f}')\n",
    "print(f'Regression R²: {r2:.3f}')\n"
   ]
  },
  {
   "cell_type": "code",
   "execution_count": 15,
   "id": "02340abd",
   "metadata": {},
   "outputs": [
    {
     "data": {
      "image/png": "[encoded data removed]",
      "text/plain": [
       "<Figure size 1000x600 with 1 Axes>"
      ]
     },
     "metadata": {},
     "output_type": "display_data"
    }
   ],
   "source": [
    "# ========================\n",
    "# 7. Feature Importance Visualization\n",
    "# ========================\n",
    "importances = pd.Series(clf_rf.feature_importances_, index=X_train_clf.columns).sort_values(ascending=False)\n",
    "\n",
    "plt.figure(figsize=(10,6))\n",
    "sns.barplot(x=importances.values[:15], y=importances.index[:15])\n",
    "plt.title('Top 15 Features Influencing Fertilizer Type Prediction')\n",
    "plt.show()"
   ]
  },
  {
   "cell_type": "code",
   "execution_count": 16,
   "id": "d769adc8",
   "metadata": {},
   "outputs": [
    {
     "name": "stdout",
     "output_type": "stream",
     "text": [
      "✅ Balanced models saved successfully in models/.\n"
     ]
    }
   ],
   "source": [
    "# ========================\n",
    "# 8. Save Balanced Models\n",
    "# ========================\n",
    "joblib.dump(clf_rf, MODELS / 'fertilizer_type_model.pkl')\n",
    "joblib.dump(reg_rf, MODELS / 'fertilizer_quantity_model.pkl')\n",
    "print('✅ Balanced models saved successfully in models/.')"
   ]
  },
  {
   "cell_type": "code",
   "execution_count": 17,
   "id": "294cd0c1",
   "metadata": {},
   "outputs": [
    {
     "name": "stdout",
     "output_type": "stream",
     "text": [
      "Test Accuracy (Classifier): 0.23333333333333334\n",
      "Test MAE (Regressor): 46.015248994639336\n"
     ]
    }
   ],
   "source": [
    "# ========================\n",
    "# 9. Final Evaluation on Test Set\n",
    "# ========================\n",
    "\n",
    "X_test = test.drop(['Fertilizer_Type','Recommended_Quantity_kg_per_acre'], axis=1)\n",
    "y_test_clf = test['Fertilizer_Type']\n",
    "y_test_reg = test['Recommended_Quantity_kg_per_acre']\n",
    "\n",
    "# Add rule-based features for test set\n",
    "X_test = add_rule_features(X_test)\n",
    "\n",
    "preds_clf_test = clf_rf.predict(X_test)\n",
    "preds_reg_test = reg_rf.predict(X_test)\n",
    "\n",
    "print('Test Accuracy (Classifier):', accuracy_score(y_test_clf, preds_clf_test))\n",
    "print('Test MAE (Regressor):', mean_absolute_error(y_test_reg, preds_reg_test))"
   ]
  },
  {
   "cell_type": "code",
   "execution_count": 18,
   "id": "a77ce248",
   "metadata": {},
   "outputs": [
    {
     "name": "stdout",
     "output_type": "stream",
     "text": [
      "✅ Final evaluation metrics saved to: C:\\Users\\sasik\\OneDrive\\Desktop\\AIML Project\\reports\\final_evaluation_balanced.csv\n"
     ]
    }
   ],
   "source": [
    "# ========================\n",
    "# 10. Save Evaluation Report\n",
    "# ========================\n",
    "reports_dir = Path('../reports')\n",
    "reports_dir.mkdir(parents=True, exist_ok=True)\n",
    "\n",
    "report = {\n",
    "    'Classification_Accuracy': accuracy_score(y_test_clf, preds_clf_test),\n",
    "    'Regression_MAE': mean_absolute_error(y_test_reg, preds_reg_test),\n",
    "    'Regression_R2': r2_score(y_test_reg, preds_reg_test)\n",
    "}\n",
    "\n",
    "report_df = pd.DataFrame([report])\n",
    "report_df.to_csv(reports_dir / 'final_evaluation_balanced.csv', index=False)\n",
    "\n",
    "print(f\"✅ Final evaluation metrics saved to: {reports_dir.resolve() / 'final_evaluation_balanced.csv'}\")"
   ]
  }
 ],
 "metadata": {
  "kernelspec": {
   "display_name": "AIML Project (.venv)",
   "language": "python",
   "name": ".venv"
  },
  "language_info": {
   "codemirror_mode": {
    "name": "ipython",
    "version": 3
   },
   "file_extension": ".py",
   "mimetype": "text/x-python",
   "name": "python",
   "nbconvert_exporter": "python",
   "pygments_lexer": "ipython3",
   "version": "3.14.0"
  }
 },
 "nbformat": 4,
 "nbformat_minor": 5
}
